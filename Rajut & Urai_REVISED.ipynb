{
 "cells": [
  {
   "cell_type": "code",
   "execution_count": 5,
   "metadata": {},
   "outputs": [],
   "source": [
    "class uraiRajutKata:\n",
    "    \n",
    "    def urai(self, kata):\n",
    "        a = ''\n",
    "        for i in range(len(kata)):\n",
    "            for j in range(i+1):\n",
    "                a+=kata[j]\n",
    "\n",
    "        return a\n",
    "\n",
    "\n",
    "    def rajut(self,kata):\n",
    "        a = ''\n",
    "        for i in range(len(kata),0,-1):\n",
    "            a+=kata[i-1]\n",
    "            if kata[i-1] == kata[0]:\n",
    "                break\n",
    "\n",
    "        return a[::-1]\n",
    "    \n",
    "x = uraiRajutKata()"
   ]
  },
  {
   "cell_type": "code",
   "execution_count": 6,
   "metadata": {},
   "outputs": [
    {
     "name": "stdout",
     "output_type": "stream",
     "text": [
      "CCoCodCode\n",
      "PPyPytPythPythoPython\n",
      "PPuPurPurwPurwaPurwadPurwadhPurwadhiPurwadhikPurwadhika\n"
     ]
    }
   ],
   "source": [
    "print(x.urai('Code'))\n",
    "print(x.urai('Python'))\n",
    "print(x.urai('Purwadhika'))"
   ]
  },
  {
   "cell_type": "code",
   "execution_count": 7,
   "metadata": {},
   "outputs": [
    {
     "name": "stdout",
     "output_type": "stream",
     "text": [
      "Code\n",
      "Python\n",
      "Purwadhika\n"
     ]
    }
   ],
   "source": [
    "print(x.rajut('CCoCodCode'))\n",
    "print(x.rajut('PPyPytPythPythoPython'))\n",
    "print(x.rajut('PPuPurPurwPurwaPurwadPurwadhPurwadhiPurwadhikPurwadhika'))"
   ]
  },
  {
   "cell_type": "code",
   "execution_count": null,
   "metadata": {},
   "outputs": [],
   "source": []
  }
 ],
 "metadata": {
  "kernelspec": {
   "display_name": "Python 3",
   "language": "python",
   "name": "python3"
  },
  "language_info": {
   "codemirror_mode": {
    "name": "ipython",
    "version": 3
   },
   "file_extension": ".py",
   "mimetype": "text/x-python",
   "name": "python",
   "nbconvert_exporter": "python",
   "pygments_lexer": "ipython3",
   "version": "3.8.1"
  }
 },
 "nbformat": 4,
 "nbformat_minor": 4
}
